{
 "cells": [
  {
   "cell_type": "markdown",
   "metadata": {},
   "source": [
    "### Assignment 3(Created by Diksha Singla on 21-06-2019)"
   ]
  },
  {
   "cell_type": "markdown",
   "metadata": {},
   "source": [
    "#### 1. Importing Libraries"
   ]
  },
  {
   "cell_type": "code",
   "execution_count": 1,
   "metadata": {},
   "outputs": [
    {
     "name": "stderr",
     "output_type": "stream",
     "text": [
      "Using TensorFlow backend.\n"
     ]
    }
   ],
   "source": [
    "import numpy as np\n",
    "import pandas as pd\n",
    "import matplotlib.pyplot as plt\n",
    "import keras\n",
    "from keras import backend as K\n",
    "from keras.models import Sequential\n",
    "from keras.layers import Dense,Dropout,Flatten,Activation"
   ]
  },
  {
   "cell_type": "markdown",
   "metadata": {},
   "source": [
    "#### 2. Reading data"
   ]
  },
  {
   "cell_type": "code",
   "execution_count": 2,
   "metadata": {},
   "outputs": [
    {
     "name": "stdout",
     "output_type": "stream",
     "text": [
      "[0 1 2 3 4 5 6 7 8 9]\n",
      "(60000, 28, 28) (60000,)\n"
     ]
    }
   ],
   "source": [
    "data_x=pd.read_pickle('trainX.pickle')\n",
    "data_y=pd.read_pickle('trainY.pickle')\n",
    "print(np.unique(data_y)) #to find classes of the data y \n",
    "print(data_x.shape,data_y.shape)"
   ]
  },
  {
   "cell_type": "markdown",
   "metadata": {},
   "source": [
    "#### 3. Dividing data into train, test and valid"
   ]
  },
  {
   "cell_type": "code",
   "execution_count": 3,
   "metadata": {},
   "outputs": [],
   "source": [
    "img_rows,img_cols=28,28\n",
    "x_train=data_x[:40000]\n",
    "x_valid=data_x[40000:50000]\n",
    "x_test=data_x[50000:60000]\n",
    "y_train=data_y[:40000]\n",
    "y_valid=data_y[40000:50000]\n",
    "y_test=data_y[50000:]"
   ]
  },
  {
   "cell_type": "markdown",
   "metadata": {},
   "source": [
    "#### 4.Changing Shape in Keras"
   ]
  },
  {
   "cell_type": "code",
   "execution_count": 4,
   "metadata": {},
   "outputs": [
    {
     "data": {
      "text/plain": [
       "(28, 28, 1)"
      ]
     },
     "execution_count": 4,
     "metadata": {},
     "output_type": "execute_result"
    }
   ],
   "source": [
    "x_train=x_train.reshape(x_train.shape[0],img_rows,img_cols,1)\n",
    "x_valid=x_valid.reshape(x_valid.shape[0],img_rows,img_cols,1)\n",
    "x_test=x_test.reshape(x_test.shape[0],img_rows,img_cols,1)\n",
    "input_shape=(img_rows,img_rows,1)\n",
    "input_shape"
   ]
  },
  {
   "cell_type": "markdown",
   "metadata": {},
   "source": [
    "#### 5.Specifying batch size categorical classes and epochs "
   ]
  },
  {
   "cell_type": "code",
   "execution_count": 5,
   "metadata": {},
   "outputs": [],
   "source": [
    "batch_size=128\n",
    "num_classes=10\n",
    "epochs=100"
   ]
  },
  {
   "cell_type": "markdown",
   "metadata": {},
   "source": [
    "#### 6. Changing shape of data and converting class vectors to binary class matrices"
   ]
  },
  {
   "cell_type": "code",
   "execution_count": 6,
   "metadata": {},
   "outputs": [
    {
     "name": "stdout",
     "output_type": "stream",
     "text": [
      "x_train shape (40000, 28, 28, 1)\n",
      "x_test shape (10000, 28, 28, 1)\n",
      "x_valid shape (10000, 28, 28, 1)\n",
      "40000 train samples\n",
      "10000 test samples\n",
      "10000 test samples\n"
     ]
    }
   ],
   "source": [
    "x_train=x_train.astype('float32')\n",
    "x_valid=x_valid.astype('float32')\n",
    "x_test=x_test.astype('float32')\n",
    "x_train/=255\n",
    "x_test/=255\n",
    "x_valid/=255\n",
    "print('x_train shape',x_train.shape)\n",
    "print('x_test shape',x_test.shape)\n",
    "print('x_valid shape',x_valid.shape)\n",
    "print(x_train.shape[0],'train samples')\n",
    "print(x_test.shape[0],'test samples')\n",
    "print(x_valid.shape[0],'test samples')\n",
    "\n",
    "y_train=keras.utils.to_categorical(y_train,num_classes)\n",
    "y_valid=keras.utils.to_categorical(y_valid,num_classes)\n",
    "y_test=keras.utils.to_categorical(y_test,num_classes)"
   ]
  },
  {
   "cell_type": "markdown",
   "metadata": {},
   "source": [
    "#### 7.Reshaping the data_x"
   ]
  },
  {
   "cell_type": "code",
   "execution_count": 7,
   "metadata": {},
   "outputs": [],
   "source": [
    "x_train=np.reshape(x_train,(40000,784))\n",
    "x_valid=np.reshape(x_valid,(10000,784))\n",
    "x_test=np.reshape(x_test,(10000,784))"
   ]
  },
  {
   "cell_type": "code",
   "execution_count": 8,
   "metadata": {},
   "outputs": [
    {
     "name": "stdout",
     "output_type": "stream",
     "text": [
      "x_train shape (40000, 784)\n",
      "x_valid shape (10000, 784)\n",
      "x_test shape (10000, 784)\n",
      "40000 train samples\n",
      "10000 valid samples\n",
      "10000 test samples\n"
     ]
    }
   ],
   "source": [
    "print('x_train shape',x_train.shape)\n",
    "print('x_valid shape',x_valid.shape)\n",
    "print('x_test shape',x_test.shape)\n",
    "print(x_train.shape[0],'train samples')\n",
    "print(x_valid.shape[0],'valid samples')\n",
    "print(x_test.shape[0],'test samples')"
   ]
  },
  {
   "cell_type": "markdown",
   "metadata": {},
   "source": [
    "### 8. Models"
   ]
  },
  {
   "cell_type": "markdown",
   "metadata": {},
   "source": [
    "#### 8.1  Applying Sequential Model(Categorical cross entropy)"
   ]
  },
  {
   "cell_type": "code",
   "execution_count": 10,
   "metadata": {},
   "outputs": [
    {
     "name": "stdout",
     "output_type": "stream",
     "text": [
      "_________________________________________________________________\n",
      "Layer (type)                 Output Shape              Param #   \n",
      "=================================================================\n",
      "dense_4 (Dense)              (None, 500)               392500    \n",
      "_________________________________________________________________\n",
      "activation_4 (Activation)    (None, 500)               0         \n",
      "_________________________________________________________________\n",
      "dense_5 (Dense)              (None, 300)               150300    \n",
      "_________________________________________________________________\n",
      "activation_5 (Activation)    (None, 300)               0         \n",
      "_________________________________________________________________\n",
      "dense_6 (Dense)              (None, 10)                3010      \n",
      "_________________________________________________________________\n",
      "activation_6 (Activation)    (None, 10)                0         \n",
      "=================================================================\n",
      "Total params: 545,810\n",
      "Trainable params: 545,810\n",
      "Non-trainable params: 0\n",
      "_________________________________________________________________\n"
     ]
    }
   ],
   "source": [
    "model=Sequential()\n",
    "model.add(Dense(500,input_dim=784),)\n",
    "model.add(Activation('relu'))\n",
    "\n",
    "model.add(Dense(300))\n",
    "model.add(Activation('relu'))\n",
    "\n",
    "model.add(Dense(10))\n",
    "model.add(Activation('softmax'))\n",
    "model.summary()\n",
    "model.compile(loss=keras.losses.categorical_crossentropy,optimizer=keras.optimizers.Adadelta(),metrics=['accuracy'])"
   ]
  },
  {
   "cell_type": "markdown",
   "metadata": {},
   "source": [
    "#### 8.2 Fitting the validate data"
   ]
  },
  {
   "cell_type": "code",
   "execution_count": 11,
   "metadata": {
    "collapsed": true
   },
   "outputs": [
    {
     "name": "stderr",
     "output_type": "stream",
     "text": [
      "W0623 10:34:11.407591  5328 deprecation.py:323] From c:\\users\\diksha\\appdata\\local\\programs\\python\\python36\\lib\\site-packages\\tensorflow\\python\\ops\\math_grad.py:1250: add_dispatch_support.<locals>.wrapper (from tensorflow.python.ops.array_ops) is deprecated and will be removed in a future version.\n",
      "Instructions for updating:\n",
      "Use tf.where in 2.0, which has the same broadcast rule as np.where\n",
      "W0623 10:34:11.602718  5328 deprecation_wrapper.py:119] From c:\\users\\diksha\\appdata\\local\\programs\\python\\python36\\lib\\site-packages\\keras\\backend\\tensorflow_backend.py:986: The name tf.assign_add is deprecated. Please use tf.compat.v1.assign_add instead.\n",
      "\n"
     ]
    },
    {
     "name": "stdout",
     "output_type": "stream",
     "text": [
      "Train on 40000 samples, validate on 10000 samples\n",
      "Epoch 1/100\n",
      "40000/40000 [==============================] - 14s 343us/step - loss: 0.6136 - acc: 0.7794 - val_loss: 0.4817 - val_acc: 0.8301\n",
      "Epoch 2/100\n",
      "40000/40000 [==============================] - 11s 285us/step - loss: 0.4131 - acc: 0.8482 - val_loss: 0.5066 - val_acc: 0.8025\n",
      "Epoch 3/100\n",
      "40000/40000 [==============================] - 11s 274us/step - loss: 0.3649 - acc: 0.8634 - val_loss: 0.3455 - val_acc: 0.8757\n",
      "Epoch 4/100\n",
      "40000/40000 [==============================] - 11s 272us/step - loss: 0.3366 - acc: 0.8740 - val_loss: 0.3784 - val_acc: 0.8690\n",
      "Epoch 5/100\n",
      "40000/40000 [==============================] - 11s 271us/step - loss: 0.3106 - acc: 0.8837 - val_loss: 0.3458 - val_acc: 0.8708\n",
      "Epoch 6/100\n",
      "40000/40000 [==============================] - 11s 272us/step - loss: 0.2906 - acc: 0.8904 - val_loss: 0.4010 - val_acc: 0.8540\n",
      "Epoch 7/100\n",
      "40000/40000 [==============================] - 11s 274us/step - loss: 0.2763 - acc: 0.8967 - val_loss: 0.3517 - val_acc: 0.8741\n",
      "Epoch 8/100\n",
      "40000/40000 [==============================] - 11s 272us/step - loss: 0.2602 - acc: 0.9012 - val_loss: 0.3054 - val_acc: 0.8917\n",
      "Epoch 9/100\n",
      "40000/40000 [==============================] - 11s 270us/step - loss: 0.2496 - acc: 0.9058 - val_loss: 0.3035 - val_acc: 0.8885\n",
      "Epoch 10/100\n",
      "40000/40000 [==============================] - 11s 273us/step - loss: 0.2367 - acc: 0.9086 - val_loss: 0.3154 - val_acc: 0.8902\n",
      "Epoch 11/100\n",
      "40000/40000 [==============================] - 11s 267us/step - loss: 0.2241 - acc: 0.9148 - val_loss: 0.3085 - val_acc: 0.8925\n",
      "Epoch 12/100\n",
      "40000/40000 [==============================] - 11s 271us/step - loss: 0.2180 - acc: 0.9180 - val_loss: 0.3008 - val_acc: 0.8939\n",
      "Epoch 13/100\n",
      "40000/40000 [==============================] - 11s 271us/step - loss: 0.2067 - acc: 0.9213 - val_loss: 0.3126 - val_acc: 0.8903\n",
      "Epoch 14/100\n",
      "40000/40000 [==============================] - 11s 271us/step - loss: 0.1992 - acc: 0.9244 - val_loss: 0.3492 - val_acc: 0.8879\n",
      "Epoch 15/100\n",
      "40000/40000 [==============================] - 11s 270us/step - loss: 0.1889 - acc: 0.9279 - val_loss: 0.3218 - val_acc: 0.8966\n",
      "Epoch 16/100\n",
      "40000/40000 [==============================] - 11s 276us/step - loss: 0.1821 - acc: 0.9295 - val_loss: 0.3247 - val_acc: 0.8943\n",
      "Epoch 17/100\n",
      "40000/40000 [==============================] - 12s 291us/step - loss: 0.1747 - acc: 0.9335 - val_loss: 0.3341 - val_acc: 0.8956\n",
      "Epoch 18/100\n",
      "40000/40000 [==============================] - 12s 308us/step - loss: 0.1684 - acc: 0.9361 - val_loss: 0.3229 - val_acc: 0.8966\n",
      "Epoch 19/100\n",
      "40000/40000 [==============================] - 12s 295us/step - loss: 0.1598 - acc: 0.9386 - val_loss: 0.3286 - val_acc: 0.8986\n",
      "Epoch 20/100\n",
      "40000/40000 [==============================] - 11s 284us/step - loss: 0.1529 - acc: 0.9424 - val_loss: 0.4150 - val_acc: 0.8752\n",
      "Epoch 21/100\n",
      "40000/40000 [==============================] - 11s 269us/step - loss: 0.1489 - acc: 0.9431 - val_loss: 0.3262 - val_acc: 0.9018\n",
      "Epoch 22/100\n",
      "40000/40000 [==============================] - 11s 284us/step - loss: 0.1431 - acc: 0.9453 - val_loss: 0.3385 - val_acc: 0.8968\n",
      "Epoch 23/100\n",
      "40000/40000 [==============================] - 11s 273us/step - loss: 0.1351 - acc: 0.9481 - val_loss: 0.3576 - val_acc: 0.8950\n",
      "Epoch 24/100\n",
      "40000/40000 [==============================] - 11s 273us/step - loss: 0.1323 - acc: 0.9496 - val_loss: 0.4420 - val_acc: 0.8767\n",
      "Epoch 25/100\n",
      "40000/40000 [==============================] - 11s 270us/step - loss: 0.1279 - acc: 0.9507 - val_loss: 0.3929 - val_acc: 0.8898\n",
      "Epoch 26/100\n",
      "40000/40000 [==============================] - 11s 267us/step - loss: 0.1220 - acc: 0.9529 - val_loss: 0.3945 - val_acc: 0.8860\n",
      "Epoch 27/100\n",
      "40000/40000 [==============================] - 11s 271us/step - loss: 0.1172 - acc: 0.9559 - val_loss: 0.3758 - val_acc: 0.9015\n",
      "Epoch 28/100\n",
      "40000/40000 [==============================] - 11s 273us/step - loss: 0.1117 - acc: 0.9569 - val_loss: 0.3791 - val_acc: 0.9007\n",
      "Epoch 29/100\n",
      "40000/40000 [==============================] - 11s 263us/step - loss: 0.1094 - acc: 0.9591 - val_loss: 0.3936 - val_acc: 0.8963\n",
      "Epoch 30/100\n",
      "40000/40000 [==============================] - 10s 261us/step - loss: 0.1024 - acc: 0.9609 - val_loss: 0.4259 - val_acc: 0.8907\n",
      "Epoch 31/100\n",
      "40000/40000 [==============================] - 10s 261us/step - loss: 0.1014 - acc: 0.9606 - val_loss: 0.3862 - val_acc: 0.9023\n",
      "Epoch 32/100\n",
      "40000/40000 [==============================] - 10s 262us/step - loss: 0.0950 - acc: 0.9644 - val_loss: 0.4822 - val_acc: 0.8779\n",
      "Epoch 33/100\n",
      "40000/40000 [==============================] - 11s 263us/step - loss: 0.0930 - acc: 0.9651 - val_loss: 0.4358 - val_acc: 0.8948\n",
      "Epoch 34/100\n",
      "40000/40000 [==============================] - 11s 263us/step - loss: 0.0896 - acc: 0.9663 - val_loss: 0.4790 - val_acc: 0.8937\n",
      "Epoch 35/100\n",
      "40000/40000 [==============================] - 10s 261us/step - loss: 0.0866 - acc: 0.9671 - val_loss: 0.4599 - val_acc: 0.8912\n",
      "Epoch 36/100\n",
      "40000/40000 [==============================] - 10s 261us/step - loss: 0.0819 - acc: 0.9692 - val_loss: 0.4488 - val_acc: 0.8952\n",
      "Epoch 37/100\n",
      "40000/40000 [==============================] - 10s 262us/step - loss: 0.0816 - acc: 0.9686 - val_loss: 0.4335 - val_acc: 0.8971\n",
      "Epoch 38/100\n",
      "40000/40000 [==============================] - 11s 263us/step - loss: 0.0780 - acc: 0.9706 - val_loss: 0.4398 - val_acc: 0.9008\n",
      "Epoch 39/100\n",
      "40000/40000 [==============================] - 11s 267us/step - loss: 0.0737 - acc: 0.9722 - val_loss: 0.4864 - val_acc: 0.8920\n",
      "Epoch 40/100\n",
      "40000/40000 [==============================] - 11s 264us/step - loss: 0.0710 - acc: 0.9723 - val_loss: 0.4825 - val_acc: 0.8981\n",
      "Epoch 41/100\n",
      "40000/40000 [==============================] - 10s 261us/step - loss: 0.0695 - acc: 0.9733 - val_loss: 0.4673 - val_acc: 0.8968 5s - loss: 0.0644 -  - ETA\n",
      "Epoch 42/100\n",
      "40000/40000 [==============================] - 10s 262us/step - loss: 0.0661 - acc: 0.9746 - val_loss: 0.4533 - val_acc: 0.8982\n",
      "Epoch 43/100\n",
      "40000/40000 [==============================] - 10s 262us/step - loss: 0.0656 - acc: 0.9748 - val_loss: 0.4943 - val_acc: 0.9014\n",
      "Epoch 44/100\n",
      "40000/40000 [==============================] - 10s 261us/step - loss: 0.0621 - acc: 0.9766 - val_loss: 0.4467 - val_acc: 0.9065\n",
      "Epoch 45/100\n",
      "40000/40000 [==============================] - 10s 261us/step - loss: 0.0596 - acc: 0.9777 - val_loss: 0.4779 - val_acc: 0.9003\n",
      "Epoch 46/100\n",
      "40000/40000 [==============================] - 11s 268us/step - loss: 0.0585 - acc: 0.9784 - val_loss: 0.5289 - val_acc: 0.8930\n",
      "Epoch 47/100\n",
      "40000/40000 [==============================] - 11s 275us/step - loss: 0.0544 - acc: 0.9795 - val_loss: 0.5315 - val_acc: 0.8996\n",
      "Epoch 48/100\n",
      "40000/40000 [==============================] - 11s 269us/step - loss: 0.0536 - acc: 0.9798 - val_loss: 0.5322 - val_acc: 0.9012\n",
      "Epoch 49/100\n",
      "40000/40000 [==============================] - 11s 269us/step - loss: 0.0513 - acc: 0.9804 - val_loss: 0.5319 - val_acc: 0.9016\n",
      "Epoch 50/100\n",
      "40000/40000 [==============================] - 11s 266us/step - loss: 0.0494 - acc: 0.9814 - val_loss: 0.5380 - val_acc: 0.8919\n",
      "Epoch 51/100\n",
      "40000/40000 [==============================] - 11s 267us/step - loss: 0.0483 - acc: 0.9819 - val_loss: 0.5138 - val_acc: 0.9008\n",
      "Epoch 52/100\n",
      "40000/40000 [==============================] - 11s 267us/step - loss: 0.0474 - acc: 0.9823 - val_loss: 0.5503 - val_acc: 0.8952\n",
      "Epoch 53/100\n",
      "40000/40000 [==============================] - 11s 266us/step - loss: 0.0413 - acc: 0.9854 - val_loss: 0.5242 - val_acc: 0.8971\n",
      "Epoch 54/100\n",
      "40000/40000 [==============================] - 11s 279us/step - loss: 0.0399 - acc: 0.9853 - val_loss: 0.5355 - val_acc: 0.9009\n",
      "Epoch 55/100\n",
      "40000/40000 [==============================] - 12s 297us/step - loss: 0.0423 - acc: 0.9855 - val_loss: 0.5176 - val_acc: 0.9008\n",
      "Epoch 56/100\n",
      "40000/40000 [==============================] - 12s 291us/step - loss: 0.0386 - acc: 0.9855 - val_loss: 0.5527 - val_acc: 0.9027\n",
      "Epoch 57/100\n",
      "40000/40000 [==============================] - 11s 282us/step - loss: 0.0358 - acc: 0.9869 - val_loss: 0.5810 - val_acc: 0.8933\n",
      "Epoch 58/100\n"
     ]
    },
    {
     "name": "stdout",
     "output_type": "stream",
     "text": [
      "40000/40000 [==============================] - 11s 268us/step - loss: 0.0387 - acc: 0.9862 - val_loss: 0.5579 - val_acc: 0.8976 1s - l\n",
      "Epoch 59/100\n",
      "40000/40000 [==============================] - 11s 280us/step - loss: 0.0343 - acc: 0.9875 - val_loss: 0.5816 - val_acc: 0.9049\n",
      "Epoch 60/100\n",
      "40000/40000 [==============================] - 12s 292us/step - loss: 0.0364 - acc: 0.9864 - val_loss: 0.5351 - val_acc: 0.9016\n",
      "Epoch 61/100\n",
      "40000/40000 [==============================] - 12s 293us/step - loss: 0.0319 - acc: 0.9881 - val_loss: 0.6348 - val_acc: 0.8905\n",
      "Epoch 62/100\n",
      "40000/40000 [==============================] - 12s 288us/step - loss: 0.0344 - acc: 0.9878 - val_loss: 0.6462 - val_acc: 0.8976\n",
      "Epoch 63/100\n",
      "40000/40000 [==============================] - 12s 298us/step - loss: 0.0321 - acc: 0.9889 - val_loss: 0.6526 - val_acc: 0.8866\n",
      "Epoch 64/100\n",
      "40000/40000 [==============================] - 12s 301us/step - loss: 0.0280 - acc: 0.9899 - val_loss: 0.5993 - val_acc: 0.8983\n",
      "Epoch 65/100\n",
      "40000/40000 [==============================] - 12s 288us/step - loss: 0.0310 - acc: 0.9895 - val_loss: 0.6045 - val_acc: 0.9034\n",
      "Epoch 66/100\n",
      "40000/40000 [==============================] - 12s 296us/step - loss: 0.0275 - acc: 0.9897 - val_loss: 0.5802 - val_acc: 0.9003\n",
      "Epoch 67/100\n",
      "40000/40000 [==============================] - 12s 297us/step - loss: 0.0270 - acc: 0.9909 - val_loss: 0.6063 - val_acc: 0.9008\n",
      "Epoch 68/100\n",
      "40000/40000 [==============================] - 12s 295us/step - loss: 0.0279 - acc: 0.9902 - val_loss: 0.6302 - val_acc: 0.9029\n",
      "Epoch 69/100\n",
      "40000/40000 [==============================] - 12s 292us/step - loss: 0.0280 - acc: 0.9904 - val_loss: 0.6050 - val_acc: 0.8987\n",
      "Epoch 70/100\n",
      "40000/40000 [==============================] - 11s 281us/step - loss: 0.0244 - acc: 0.9916 - val_loss: 0.6167 - val_acc: 0.9045\n",
      "Epoch 71/100\n",
      "40000/40000 [==============================] - 11s 281us/step - loss: 0.0269 - acc: 0.9903 - val_loss: 0.6298 - val_acc: 0.9027\n",
      "Epoch 72/100\n",
      "40000/40000 [==============================] - 11s 282us/step - loss: 0.0243 - acc: 0.9910 - val_loss: 0.6254 - val_acc: 0.9000\n",
      "Epoch 73/100\n",
      "40000/40000 [==============================] - 13s 326us/step - loss: 0.0237 - acc: 0.9918 - val_loss: 0.6241 - val_acc: 0.9020\n",
      "Epoch 74/100\n",
      "40000/40000 [==============================] - 12s 297us/step - loss: 0.0246 - acc: 0.9909 - val_loss: 0.6506 - val_acc: 0.9030\n",
      "Epoch 75/100\n",
      "40000/40000 [==============================] - 12s 291us/step - loss: 0.0240 - acc: 0.9917 - val_loss: 0.6225 - val_acc: 0.8963\n",
      "Epoch 76/100\n",
      "40000/40000 [==============================] - 12s 296us/step - loss: 0.0222 - acc: 0.9922 - val_loss: 0.6261 - val_acc: 0.9039\n",
      "Epoch 77/100\n",
      "40000/40000 [==============================] - 12s 294us/step - loss: 0.0239 - acc: 0.9921 - val_loss: 0.6665 - val_acc: 0.9017\n",
      "Epoch 78/100\n",
      "40000/40000 [==============================] - 12s 303us/step - loss: 0.0216 - acc: 0.9926 - val_loss: 0.6678 - val_acc: 0.8998\n",
      "Epoch 79/100\n",
      "40000/40000 [==============================] - 13s 321us/step - loss: 0.0172 - acc: 0.9937 - val_loss: 0.6873 - val_acc: 0.9007\n",
      "Epoch 80/100\n",
      "40000/40000 [==============================] - 13s 322us/step - loss: 0.0205 - acc: 0.9931 - val_loss: 0.6925 - val_acc: 0.9030\n",
      "Epoch 81/100\n",
      "40000/40000 [==============================] - 13s 326us/step - loss: 0.0156 - acc: 0.9945 - val_loss: 0.6758 - val_acc: 0.8980\n",
      "Epoch 82/100\n",
      "40000/40000 [==============================] - 13s 321us/step - loss: 0.0175 - acc: 0.9942 - val_loss: 0.7270 - val_acc: 0.8984\n",
      "Epoch 83/100\n",
      "40000/40000 [==============================] - 13s 313us/step - loss: 0.0145 - acc: 0.9953 - val_loss: 0.6782 - val_acc: 0.9048\n",
      "Epoch 84/100\n",
      "40000/40000 [==============================] - 12s 311us/step - loss: 0.0164 - acc: 0.9944 - val_loss: 0.7134 - val_acc: 0.9024\n",
      "Epoch 85/100\n",
      "40000/40000 [==============================] - 12s 309us/step - loss: 0.0170 - acc: 0.9939 - val_loss: 0.7141 - val_acc: 0.8992\n",
      "Epoch 86/100\n",
      "40000/40000 [==============================] - 13s 325us/step - loss: 0.0154 - acc: 0.9948 - val_loss: 0.7149 - val_acc: 0.9039\n",
      "Epoch 87/100\n",
      "40000/40000 [==============================] - 13s 328us/step - loss: 0.0162 - acc: 0.9944 - val_loss: 0.7027 - val_acc: 0.9006\n",
      "Epoch 88/100\n",
      "40000/40000 [==============================] - 13s 313us/step - loss: 0.0140 - acc: 0.9955 - val_loss: 0.7117 - val_acc: 0.8997\n",
      "Epoch 89/100\n",
      "40000/40000 [==============================] - 13s 329us/step - loss: 0.0114 - acc: 0.9959 - val_loss: 0.7173 - val_acc: 0.9000\n",
      "Epoch 90/100\n",
      "40000/40000 [==============================] - 12s 305us/step - loss: 0.0154 - acc: 0.9947 - val_loss: 0.7078 - val_acc: 0.8987\n",
      "Epoch 91/100\n",
      "40000/40000 [==============================] - 13s 316us/step - loss: 0.0143 - acc: 0.9952 - val_loss: 0.6967 - val_acc: 0.9012\n",
      "Epoch 92/100\n",
      "40000/40000 [==============================] - 13s 320us/step - loss: 0.0128 - acc: 0.9956 - val_loss: 0.7220 - val_acc: 0.9017\n",
      "Epoch 93/100\n",
      "40000/40000 [==============================] - 13s 321us/step - loss: 0.0127 - acc: 0.9958 - val_loss: 0.6913 - val_acc: 0.9015\n",
      "Epoch 94/100\n",
      "40000/40000 [==============================] - 13s 321us/step - loss: 0.0113 - acc: 0.9960 - val_loss: 0.7380 - val_acc: 0.9011\n",
      "Epoch 95/100\n",
      "40000/40000 [==============================] - 13s 322us/step - loss: 0.0126 - acc: 0.9961 - val_loss: 0.7930 - val_acc: 0.8976\n",
      "Epoch 96/100\n",
      "40000/40000 [==============================] - 13s 321us/step - loss: 0.0125 - acc: 0.9960 - val_loss: 0.7075 - val_acc: 0.9029\n",
      "Epoch 97/100\n",
      "40000/40000 [==============================] - 13s 322us/step - loss: 0.0100 - acc: 0.9966 - val_loss: 0.7198 - val_acc: 0.9020\n",
      "Epoch 98/100\n",
      "40000/40000 [==============================] - 13s 317us/step - loss: 0.0117 - acc: 0.9960 - val_loss: 0.7140 - val_acc: 0.9035\n",
      "Epoch 99/100\n",
      "40000/40000 [==============================] - 13s 317us/step - loss: 0.0134 - acc: 0.9956 - val_loss: 0.7622 - val_acc: 0.8982\n",
      "Epoch 100/100\n",
      "40000/40000 [==============================] - 13s 321us/step - loss: 0.0096 - acc: 0.9967 - val_loss: 0.7255 - val_acc: 0.9041\n"
     ]
    },
    {
     "data": {
      "text/plain": [
       "<keras.callbacks.History at 0x5ab71fff28>"
      ]
     },
     "execution_count": 11,
     "metadata": {},
     "output_type": "execute_result"
    }
   ],
   "source": [
    "model.fit(x_train,y_train,batch_size=batch_size,epochs=100,verbose=1,validation_data=(x_valid,y_valid))"
   ]
  },
  {
   "cell_type": "markdown",
   "metadata": {},
   "source": [
    "#### 8.3 Evaluating the model on test data"
   ]
  },
  {
   "cell_type": "code",
   "execution_count": 12,
   "metadata": {},
   "outputs": [
    {
     "name": "stdout",
     "output_type": "stream",
     "text": [
      "Test loss:  0.7381533797152341\n",
      "Test accuracy:  0.8985\n"
     ]
    }
   ],
   "source": [
    "score=model.evaluate(x_test,y_test,verbose=0)\n",
    "print('Test loss: ',score[0])\n",
    "print('Test accuracy: ',score[1])"
   ]
  },
  {
   "cell_type": "markdown",
   "metadata": {},
   "source": [
    "#### 9. predicting Values"
   ]
  },
  {
   "cell_type": "code",
   "execution_count": 13,
   "metadata": {},
   "outputs": [
    {
     "name": "stdout",
     "output_type": "stream",
     "text": [
      "[9 2 1 ... 3 0 5]\n"
     ]
    }
   ],
   "source": [
    "predictions=model.predict_classes([x_test])\n",
    "print(predictions)"
   ]
  },
  {
   "cell_type": "code",
   "execution_count": 14,
   "metadata": {},
   "outputs": [
    {
     "data": {
      "text/plain": [
       "0.8985"
      ]
     },
     "execution_count": 14,
     "metadata": {},
     "output_type": "execute_result"
    }
   ],
   "source": [
    "count=0\n",
    "for i in range(0,len(predictions),1):\n",
    "    if (np.argmax(y_test[i])==predictions[i]):\n",
    "        count+=1\n",
    "count/len(y_test)"
   ]
  },
  {
   "cell_type": "code",
   "execution_count": null,
   "metadata": {},
   "outputs": [],
   "source": [
    "\"\"\"model.save('assign3.model')\n",
    "new_model=tf.keras.models.load_model('assign3.model')\n",
    "predictions=new_model.predict([x_test])\n",
    "for i in range(0,len(predictions),1):\n",
    "    print(np.argmax(predictions[i]))\n",
    "    \n",
    "import pickle\n",
    "pickle_out=open('y_test.pickle','w')\n",
    "pickle.dump(y_test,pickle_out)\n",
    "pickle_out.close()\n",
    "\"\"\""
   ]
  },
  {
   "cell_type": "markdown",
   "metadata": {},
   "source": [
    "### CNN MODEL"
   ]
  },
  {
   "cell_type": "markdown",
   "metadata": {},
   "source": [
    "#### 1. Reading data from X train and y train files"
   ]
  },
  {
   "cell_type": "code",
   "execution_count": 15,
   "metadata": {},
   "outputs": [
    {
     "name": "stdout",
     "output_type": "stream",
     "text": [
      "[0 1 2 3 4 5 6 7 8 9]\n",
      "(60000, 28, 28) (60000,)\n"
     ]
    }
   ],
   "source": [
    "data_x=pd.read_pickle('trainX.pickle')\n",
    "data_y=pd.read_pickle('trainY.pickle')\n",
    "print(np.unique(data_y)) #to find classes of the data y \n",
    "print(data_x.shape,data_y.shape)"
   ]
  },
  {
   "cell_type": "markdown",
   "metadata": {},
   "source": [
    "#### 2. Separating data into test train and valid data and reshaping the data"
   ]
  },
  {
   "cell_type": "code",
   "execution_count": 16,
   "metadata": {},
   "outputs": [
    {
     "data": {
      "text/plain": [
       "(28, 28, 1)"
      ]
     },
     "execution_count": 16,
     "metadata": {},
     "output_type": "execute_result"
    }
   ],
   "source": [
    "img_rows,img_cols=28,28\n",
    "x_train=data_x[:40000]\n",
    "x_valid=data_x[40000:50000]\n",
    "x_test=data_x[50000:60000]\n",
    "y_train=data_y[:40000]\n",
    "y_valid=data_y[40000:50000]\n",
    "y_test=data_y[50000:]\n",
    "x_train=x_train.reshape(x_train.shape[0],img_rows,img_cols,1)\n",
    "x_valid=x_valid.reshape(x_valid.shape[0],img_rows,img_cols,1)\n",
    "x_test=x_test.reshape(x_test.shape[0],img_rows,img_cols,1)\n",
    "input_shape=(img_rows,img_rows,1)\n",
    "input_shape"
   ]
  },
  {
   "cell_type": "markdown",
   "metadata": {},
   "source": [
    "#### 3. Reshaping data into categorical data"
   ]
  },
  {
   "cell_type": "code",
   "execution_count": 17,
   "metadata": {},
   "outputs": [
    {
     "name": "stdout",
     "output_type": "stream",
     "text": [
      "x_train shape (40000, 28, 28, 1)\n",
      "x_test shape (10000, 28, 28, 1)\n",
      "x_valid shape (10000, 28, 28, 1)\n",
      "40000 train samples\n",
      "10000 test samples\n",
      "10000 test samples\n"
     ]
    }
   ],
   "source": [
    "batch_size=128\n",
    "num_classes=10\n",
    "epochs=100\n",
    "x_train=x_train.astype('float32')\n",
    "x_valid=x_valid.astype('float32')\n",
    "x_test=x_test.astype('float32')\n",
    "x_train/=255\n",
    "x_test/=255\n",
    "x_valid/=255\n",
    "print('x_train shape',x_train.shape)\n",
    "print('x_test shape',x_test.shape)\n",
    "print('x_valid shape',x_valid.shape)\n",
    "print(x_train.shape[0],'train samples')\n",
    "print(x_test.shape[0],'test samples')\n",
    "print(x_valid.shape[0],'test samples')\n",
    "\n",
    "y_train=keras.utils.to_categorical(y_train,num_classes)\n",
    "y_valid=keras.utils.to_categorical(y_valid,num_classes)\n",
    "y_test=keras.utils.to_categorical(y_test,num_classes)"
   ]
  },
  {
   "cell_type": "markdown",
   "metadata": {},
   "source": [
    "#### 4. Building the CNN model by adding layers"
   ]
  },
  {
   "cell_type": "code",
   "execution_count": 19,
   "metadata": {},
   "outputs": [
    {
     "name": "stdout",
     "output_type": "stream",
     "text": [
      "_________________________________________________________________\n",
      "Layer (type)                 Output Shape              Param #   \n",
      "=================================================================\n",
      "conv2d_4 (Conv2D)            (None, 26, 26, 32)        320       \n",
      "_________________________________________________________________\n",
      "max_pooling2d_3 (MaxPooling2 (None, 13, 13, 32)        0         \n",
      "_________________________________________________________________\n",
      "dropout_5 (Dropout)          (None, 13, 13, 32)        0         \n",
      "_________________________________________________________________\n",
      "conv2d_5 (Conv2D)            (None, 11, 11, 64)        18496     \n",
      "_________________________________________________________________\n",
      "max_pooling2d_4 (MaxPooling2 (None, 5, 5, 64)          0         \n",
      "_________________________________________________________________\n",
      "dropout_6 (Dropout)          (None, 5, 5, 64)          0         \n",
      "_________________________________________________________________\n",
      "conv2d_6 (Conv2D)            (None, 3, 3, 128)         73856     \n",
      "_________________________________________________________________\n",
      "dropout_7 (Dropout)          (None, 3, 3, 128)         0         \n",
      "_________________________________________________________________\n",
      "flatten_2 (Flatten)          (None, 1152)              0         \n",
      "_________________________________________________________________\n",
      "dense_9 (Dense)              (None, 128)               147584    \n",
      "_________________________________________________________________\n",
      "dropout_8 (Dropout)          (None, 128)               0         \n",
      "_________________________________________________________________\n",
      "dense_10 (Dense)             (None, 10)                1290      \n",
      "=================================================================\n",
      "Total params: 241,546\n",
      "Trainable params: 241,546\n",
      "Non-trainable params: 0\n",
      "_________________________________________________________________\n"
     ]
    }
   ],
   "source": [
    "from keras.layers import Dense, Dropout, Flatten\n",
    "from keras.layers import Conv2D, MaxPooling2D\n",
    "from keras.layers.normalization import BatchNormalization\n",
    "\n",
    "model = Sequential()\n",
    "model.add(Conv2D(32, kernel_size=(3, 3),activation='relu',kernel_initializer='he_normal',input_shape=input_shape))\n",
    "model.add(MaxPooling2D((2, 2)))\n",
    "model.add(Dropout(0.25))\n",
    "model.add(Conv2D(64, (3, 3), activation='relu'))\n",
    "model.add(MaxPooling2D(pool_size=(2, 2)))\n",
    "model.add(Dropout(0.25))\n",
    "model.add(Conv2D(128, (3, 3), activation='relu'))\n",
    "model.add(Dropout(0.4))\n",
    "model.add(Flatten())\n",
    "model.add(Dense(128, activation='relu'))\n",
    "model.add(Dropout(0.3))\n",
    "model.add(Dense(num_classes, activation='softmax'))\n",
    "model.summary()\n",
    "model.compile(loss=keras.losses.categorical_crossentropy,optimizer=keras.optimizers.Adam(),metrics=['accuracy'])"
   ]
  },
  {
   "cell_type": "markdown",
   "metadata": {},
   "source": [
    "#### 5. Fitting and Evaluating the model with train valid and test data and checking its accuracy"
   ]
  },
  {
   "cell_type": "code",
   "execution_count": 20,
   "metadata": {},
   "outputs": [
    {
     "name": "stdout",
     "output_type": "stream",
     "text": [
      "Train on 40000 samples, validate on 10000 samples\n",
      "Epoch 1/50\n",
      "40000/40000 [==============================] - 75s 2ms/step - loss: 0.8133 - acc: 0.6961 - val_loss: 0.5034 - val_acc: 0.8155\n",
      "Epoch 2/50\n",
      "40000/40000 [==============================] - 73s 2ms/step - loss: 0.5134 - acc: 0.8095 - val_loss: 0.4283 - val_acc: 0.8452\n",
      "Epoch 3/50\n",
      "40000/40000 [==============================] - 72s 2ms/step - loss: 0.4391 - acc: 0.8397 - val_loss: 0.3543 - val_acc: 0.8749\n",
      "Epoch 4/50\n",
      "40000/40000 [==============================] - 71s 2ms/step - loss: 0.3954 - acc: 0.8540 - val_loss: 0.3286 - val_acc: 0.8836\n",
      "Epoch 5/50\n",
      "40000/40000 [==============================] - 70s 2ms/step - loss: 0.3647 - acc: 0.8659 - val_loss: 0.3090 - val_acc: 0.8886\n",
      "Epoch 6/50\n",
      "40000/40000 [==============================] - 70s 2ms/step - loss: 0.3393 - acc: 0.8762 - val_loss: 0.2938 - val_acc: 0.8932\n",
      "Epoch 7/50\n",
      "40000/40000 [==============================] - 70s 2ms/step - loss: 0.3264 - acc: 0.8794 - val_loss: 0.2952 - val_acc: 0.8900\n",
      "Epoch 8/50\n",
      "40000/40000 [==============================] - 71s 2ms/step - loss: 0.3171 - acc: 0.8814 - val_loss: 0.2740 - val_acc: 0.8993\n",
      "Epoch 9/50\n",
      "40000/40000 [==============================] - 70s 2ms/step - loss: 0.3014 - acc: 0.8878 - val_loss: 0.2768 - val_acc: 0.8989\n",
      "Epoch 10/50\n",
      "40000/40000 [==============================] - 75s 2ms/step - loss: 0.2953 - acc: 0.8903 - val_loss: 0.2641 - val_acc: 0.9038\n",
      "Epoch 11/50\n",
      "40000/40000 [==============================] - 74s 2ms/step - loss: 0.2862 - acc: 0.8929 - val_loss: 0.2536 - val_acc: 0.9084\n",
      "Epoch 12/50\n",
      "40000/40000 [==============================] - 73s 2ms/step - loss: 0.2793 - acc: 0.8980 - val_loss: 0.2563 - val_acc: 0.9063\n",
      "Epoch 13/50\n",
      "40000/40000 [==============================] - 75s 2ms/step - loss: 0.2707 - acc: 0.8980 - val_loss: 0.2474 - val_acc: 0.9084\n",
      "Epoch 14/50\n",
      "40000/40000 [==============================] - 75s 2ms/step - loss: 0.2648 - acc: 0.9016 - val_loss: 0.2451 - val_acc: 0.9094\n",
      "Epoch 15/50\n",
      "40000/40000 [==============================] - 71s 2ms/step - loss: 0.2590 - acc: 0.9043 - val_loss: 0.2444 - val_acc: 0.9100\n",
      "Epoch 16/50\n",
      "40000/40000 [==============================] - 72s 2ms/step - loss: 0.2544 - acc: 0.9053 - val_loss: 0.2390 - val_acc: 0.9127\n",
      "Epoch 17/50\n",
      "40000/40000 [==============================] - 74s 2ms/step - loss: 0.2544 - acc: 0.9042 - val_loss: 0.2411 - val_acc: 0.9113\n",
      "Epoch 18/50\n",
      "40000/40000 [==============================] - 73s 2ms/step - loss: 0.2507 - acc: 0.9058 - val_loss: 0.2365 - val_acc: 0.9122\n",
      "Epoch 19/50\n",
      "40000/40000 [==============================] - 72s 2ms/step - loss: 0.2427 - acc: 0.9090 - val_loss: 0.2474 - val_acc: 0.9083\n",
      "Epoch 20/50\n",
      "40000/40000 [==============================] - 72s 2ms/step - loss: 0.2382 - acc: 0.9105 - val_loss: 0.2320 - val_acc: 0.9148\n",
      "Epoch 21/50\n",
      "40000/40000 [==============================] - 75s 2ms/step - loss: 0.2334 - acc: 0.9131 - val_loss: 0.2369 - val_acc: 0.9126\n",
      "Epoch 22/50\n",
      "40000/40000 [==============================] - 73s 2ms/step - loss: 0.2305 - acc: 0.9144 - val_loss: 0.2340 - val_acc: 0.9159\n",
      "Epoch 23/50\n",
      "40000/40000 [==============================] - 73s 2ms/step - loss: 0.2308 - acc: 0.9133 - val_loss: 0.2300 - val_acc: 0.9162\n",
      "Epoch 24/50\n",
      "40000/40000 [==============================] - 73s 2ms/step - loss: 0.2293 - acc: 0.9145 - val_loss: 0.2324 - val_acc: 0.9135\n",
      "Epoch 25/50\n",
      "40000/40000 [==============================] - 75s 2ms/step - loss: 0.2245 - acc: 0.9152 - val_loss: 0.2320 - val_acc: 0.9178\n",
      "Epoch 26/50\n",
      "40000/40000 [==============================] - 73s 2ms/step - loss: 0.2237 - acc: 0.9165 - val_loss: 0.2284 - val_acc: 0.9175\n",
      "Epoch 27/50\n",
      "40000/40000 [==============================] - 76s 2ms/step - loss: 0.2209 - acc: 0.9158 - val_loss: 0.2234 - val_acc: 0.9189\n",
      "Epoch 28/50\n",
      "40000/40000 [==============================] - 73s 2ms/step - loss: 0.2159 - acc: 0.9180 - val_loss: 0.2244 - val_acc: 0.9184\n",
      "Epoch 29/50\n",
      "40000/40000 [==============================] - 73s 2ms/step - loss: 0.2185 - acc: 0.9165 - val_loss: 0.2380 - val_acc: 0.9139\n",
      "Epoch 30/50\n",
      "40000/40000 [==============================] - 73s 2ms/step - loss: 0.2091 - acc: 0.9205 - val_loss: 0.2321 - val_acc: 0.9154\n",
      "Epoch 31/50\n",
      "40000/40000 [==============================] - 78s 2ms/step - loss: 0.2116 - acc: 0.9184 - val_loss: 0.2239 - val_acc: 0.9197\n",
      "Epoch 32/50\n",
      "40000/40000 [==============================] - 79s 2ms/step - loss: 0.2072 - acc: 0.9214 - val_loss: 0.2216 - val_acc: 0.9195\n",
      "Epoch 33/50\n",
      "40000/40000 [==============================] - 76s 2ms/step - loss: 0.2079 - acc: 0.9215 - val_loss: 0.2238 - val_acc: 0.9195\n",
      "Epoch 34/50\n",
      "40000/40000 [==============================] - 75s 2ms/step - loss: 0.2062 - acc: 0.9216 - val_loss: 0.2210 - val_acc: 0.9207\n",
      "Epoch 35/50\n",
      "40000/40000 [==============================] - 75s 2ms/step - loss: 0.2045 - acc: 0.9232 - val_loss: 0.2265 - val_acc: 0.9204\n",
      "Epoch 36/50\n",
      "40000/40000 [==============================] - 73s 2ms/step - loss: 0.2021 - acc: 0.9236 - val_loss: 0.2233 - val_acc: 0.9203\n",
      "Epoch 37/50\n",
      "40000/40000 [==============================] - 73s 2ms/step - loss: 0.2001 - acc: 0.9241 - val_loss: 0.2212 - val_acc: 0.9212\n",
      "Epoch 38/50\n",
      "40000/40000 [==============================] - 74s 2ms/step - loss: 0.1979 - acc: 0.9256 - val_loss: 0.2313 - val_acc: 0.9178\n",
      "Epoch 39/50\n",
      "40000/40000 [==============================] - 73s 2ms/step - loss: 0.1969 - acc: 0.9260 - val_loss: 0.2279 - val_acc: 0.9194\n",
      "Epoch 40/50\n",
      "40000/40000 [==============================] - 73s 2ms/step - loss: 0.1964 - acc: 0.9252 - val_loss: 0.2263 - val_acc: 0.9199\n",
      "Epoch 41/50\n",
      "40000/40000 [==============================] - 73s 2ms/step - loss: 0.1918 - acc: 0.9270 - val_loss: 0.2335 - val_acc: 0.9195\n",
      "Epoch 42/50\n",
      "40000/40000 [==============================] - 73s 2ms/step - loss: 0.1941 - acc: 0.9249 - val_loss: 0.2251 - val_acc: 0.9219\n",
      "Epoch 43/50\n",
      "40000/40000 [==============================] - 73s 2ms/step - loss: 0.1956 - acc: 0.9260 - val_loss: 0.2345 - val_acc: 0.9155\n",
      "Epoch 44/50\n",
      "40000/40000 [==============================] - 73s 2ms/step - loss: 0.1952 - acc: 0.9249 - val_loss: 0.2357 - val_acc: 0.9185\n",
      "Epoch 45/50\n",
      "40000/40000 [==============================] - 75s 2ms/step - loss: 0.1906 - acc: 0.9270 - val_loss: 0.2277 - val_acc: 0.9204\n",
      "Epoch 46/50\n",
      "40000/40000 [==============================] - 76s 2ms/step - loss: 0.1931 - acc: 0.9254 - val_loss: 0.2267 - val_acc: 0.9215\n",
      "Epoch 47/50\n",
      "40000/40000 [==============================] - 76s 2ms/step - loss: 0.1865 - acc: 0.9291 - val_loss: 0.2282 - val_acc: 0.9212\n",
      "Epoch 48/50\n",
      "40000/40000 [==============================] - 74s 2ms/step - loss: 0.1885 - acc: 0.9288 - val_loss: 0.2265 - val_acc: 0.9207\n",
      "Epoch 49/50\n",
      "40000/40000 [==============================] - 74s 2ms/step - loss: 0.1867 - acc: 0.9296 - val_loss: 0.2224 - val_acc: 0.9216\n",
      "Epoch 50/50\n",
      "40000/40000 [==============================] - 74s 2ms/step - loss: 0.1847 - acc: 0.9286 - val_loss: 0.2269 - val_acc: 0.9210\n",
      "Test loss:  0.223997367477417\n",
      "Test accuracy:  0.9164\n"
     ]
    }
   ],
   "source": [
    "history = model.fit(x_train, y_train,batch_size=batch_size,epochs=50,verbose=1,validation_data=(x_valid, y_valid))\n",
    "score = model.evaluate(x_test, y_test, verbose=0)\n",
    "print('Test loss: ',score[0])\n",
    "print('Test accuracy: ',score[1])"
   ]
  },
  {
   "cell_type": "markdown",
   "metadata": {},
   "source": [
    "#### 6. Plotting Graphs to visualise the training and validation accuracy and loss"
   ]
  },
  {
   "cell_type": "code",
   "execution_count": 31,
   "metadata": {},
   "outputs": [
    {
     "data": {
      "image/png": "[encoded data removed]",
      "text/plain": [
       "<Figure size 432x288 with 1 Axes>"
      ]
     },
     "metadata": {
      "needs_background": "light"
     },
     "output_type": "display_data"
    },
    {
     "data": {
      "image/png": "[encoded data removed]",
      "text/plain": [
       "<Figure size 432x288 with 1 Axes>"
      ]
     },
     "metadata": {
      "needs_background": "light"
     },
     "output_type": "display_data"
    }
   ],
   "source": [
    "import matplotlib.pyplot as plt\n",
    "%matplotlib inline\n",
    "accuracy = history.history['acc']\n",
    "val_accuracy = history.history['val_acc']\n",
    "loss = history.history['loss']\n",
    "val_loss = history.history['val_loss']\n",
    "epochs = range(len(accuracy))\n",
    "plt.plot(epochs, accuracy, 'ro', label='Training accuracy')\n",
    "plt.plot(epochs, val_accuracy, 'y', label='Validation accuracy')\n",
    "plt.title('Training and validation accuracy')\n",
    "plt.legend()\n",
    "plt.figure()\n",
    "plt.plot(epochs, loss, 'ro', label='Training loss')\n",
    "plt.plot(epochs, val_loss, 'y', label='Validation loss')\n",
    "plt.title('Training and validation loss')\n",
    "plt.legend()\n",
    "plt.show()"
   ]
  },
  {
   "cell_type": "markdown",
   "metadata": {},
   "source": [
    "#### 7. Prediction of data for x_test"
   ]
  },
  {
   "cell_type": "code",
   "execution_count": 22,
   "metadata": {},
   "outputs": [
    {
     "name": "stdout",
     "output_type": "stream",
     "text": [
      "[9 2 1 ... 3 0 5]\n"
     ]
    }
   ],
   "source": [
    "predictions=model.predict_classes([x_test])\n",
    "print(predictions)"
   ]
  },
  {
   "cell_type": "markdown",
   "metadata": {},
   "source": [
    "#### 8. Reading the given test data and performing reshape operations"
   ]
  },
  {
   "cell_type": "code",
   "execution_count": 24,
   "metadata": {},
   "outputs": [
    {
     "name": "stdout",
     "output_type": "stream",
     "text": [
      "(10000, 28, 28)\n",
      "test_x shape (10000, 28, 28, 1)\n",
      "10000 test samples\n"
     ]
    }
   ],
   "source": [
    "test_x=pd.read_pickle('testX.pickle')\n",
    "print(test_x.shape)\n",
    "test_x=test_x.reshape(test_x.shape[0],img_rows,img_cols,1)\n",
    "test_x=test_x.astype('float32')\n",
    "test_x/=255\n",
    "print('test_x shape',test_x.shape)\n",
    "print(test_x.shape[0],'test samples')"
   ]
  },
  {
   "cell_type": "markdown",
   "metadata": {},
   "source": [
    "#### 9. Predicting the classes for test data using the CNN MODEL"
   ]
  },
  {
   "cell_type": "code",
   "execution_count": 26,
   "metadata": {},
   "outputs": [
    {
     "name": "stdout",
     "output_type": "stream",
     "text": [
      "[9 2 1 ... 8 1 5]\n"
     ]
    }
   ],
   "source": [
    "test_y=model.predict_classes([test_x])\n",
    "print(test_y)"
   ]
  },
  {
   "cell_type": "markdown",
   "metadata": {},
   "source": [
    "#### 10. Writing data into pickle file"
   ]
  },
  {
   "cell_type": "code",
   "execution_count": 29,
   "metadata": {},
   "outputs": [],
   "source": [
    "import pickle\n",
    "pickle_out=open('DikshaSingla_testY.pickle','wb')\n",
    "pickle.dump(test_y,pickle_out)\n",
    "pickle_out.close()"
   ]
  }
 ],
 "metadata": {
  "kernelspec": {
   "display_name": "Python 3",
   "language": "python",
   "name": "python3"
  },
  "language_info": {
   "codemirror_mode": {
    "name": "ipython",
    "version": 3
   },
   "file_extension": ".py",
   "mimetype": "text/x-python",
   "name": "python",
   "nbconvert_exporter": "python",
   "pygments_lexer": "ipython3",
   "version": "3.6.5"
  }
 },
 "nbformat": 4,
 "nbformat_minor": 2
}
